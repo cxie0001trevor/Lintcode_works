{
 "cells": [
  {
   "cell_type": "markdown",
   "metadata": {},
   "source": [
    "## 1042. Toeplitz\n",
    "A matrix is Toeplitz if every diagonal from top-left to bottom-right has the same element.\n",
    "Now given an M x N matrix, return True if and only if the matrix is Toeplitz.\n",
    "Example:\n",
    "```Python\n",
    "[[1,2,3,4],\n",
    " [5,1,2,3],\n",
    " [9,5,1,2]]\n",
    "```\n",
    "Checking: In the above grid, the diagonals are `[9]`, `[5, 5]`, `[1, 1, 1]`, `[2, 2, 2]`, `[3, 3]`, `[4]`, and in each diagonal all elements are the same, so the answer is True."
   ]
  },
  {
   "cell_type": "code",
   "execution_count": 145,
   "metadata": {},
   "outputs": [],
   "source": [
    "def checkDiagonal(matrix,i,j):\n",
    "    ele = matrix[i][j]\n",
    "    row=len(matrix)-1 #get row index border\n",
    "    col=len(matrix[0])-1 #get col index border\n",
    "    while i<row and j<col:\n",
    "        i,j = i+1,j+1\n",
    "        if matrix[i][j] != ele:\n",
    "            return False\n",
    "    return True\n",
    "\n",
    "def isToeplitz(matrix):\n",
    "    row=len(matrix)-1 #get row index border\n",
    "    col=len(matrix[0])-1 #get col index border\n",
    "    for i in range(row):\n",
    "        if not checkDiagonal(matrix,i,0):\n",
    "            return False\n",
    "    for j in range(col):\n",
    "        if not checkDiagonal(matrix,0,j):\n",
    "            return False\n",
    "    return True"
   ]
  },
  {
   "cell_type": "code",
   "execution_count": 146,
   "metadata": {},
   "outputs": [],
   "source": [
    "matrix = [[1,2,2,4],\n",
    "          [4,1,2,3],\n",
    "          [1,4,1,2]]"
   ]
  },
  {
   "cell_type": "code",
   "execution_count": 147,
   "metadata": {},
   "outputs": [
    {
     "name": "stdout",
     "output_type": "stream",
     "text": [
      "3.12 µs ± 69.5 ns per loop (mean ± std. dev. of 7 runs, 100000 loops each)\n"
     ]
    }
   ],
   "source": [
    "%timeit isToeplitz(matrix)"
   ]
  }
 ],
 "metadata": {
  "kernelspec": {
   "display_name": "Python 3",
   "language": "python",
   "name": "python3"
  },
  "language_info": {
   "codemirror_mode": {
    "name": "ipython",
    "version": 3
   },
   "file_extension": ".py",
   "mimetype": "text/x-python",
   "name": "python",
   "nbconvert_exporter": "python",
   "pygments_lexer": "ipython3",
   "version": "3.6.4"
  }
 },
 "nbformat": 4,
 "nbformat_minor": 2
}
